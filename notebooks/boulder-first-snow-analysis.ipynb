{
 "cells": [
  {
   "cell_type": "markdown",
   "metadata": {},
   "source": [
    "# Boulder First Snow"
   ]
  },
  {
   "cell_type": "code",
   "execution_count": 1,
   "metadata": {},
   "outputs": [
    {
     "data": {
      "application/javascript": [
       "\n",
       "            setTimeout(function() {\n",
       "                var nbb_cell_id = 1;\n",
       "                var nbb_unformatted_code = \"%load_ext nb_black\";\n",
       "                var nbb_formatted_code = \"%load_ext nb_black\";\n",
       "                var nbb_cells = Jupyter.notebook.get_cells();\n",
       "                for (var i = 0; i < nbb_cells.length; ++i) {\n",
       "                    if (nbb_cells[i].input_prompt_number == nbb_cell_id) {\n",
       "                        if (nbb_cells[i].get_text() == nbb_unformatted_code) {\n",
       "                             nbb_cells[i].set_text(nbb_formatted_code);\n",
       "                        }\n",
       "                        break;\n",
       "                    }\n",
       "                }\n",
       "            }, 500);\n",
       "            "
      ],
      "text/plain": [
       "<IPython.core.display.Javascript object>"
      ]
     },
     "metadata": {},
     "output_type": "display_data"
    }
   ],
   "source": [
    "%load_ext nb_black"
   ]
  },
  {
   "cell_type": "code",
   "execution_count": 2,
   "metadata": {},
   "outputs": [
    {
     "data": {
      "application/javascript": [
       "\n",
       "            setTimeout(function() {\n",
       "                var nbb_cell_id = 2;\n",
       "                var nbb_unformatted_code = \"import cftime\\nimport numpy as np\\nimport pandas as pd\\nimport xarray as xr\\nimport proplot as plot\\nimport seaborn as sb\";\n",
       "                var nbb_formatted_code = \"import cftime\\nimport numpy as np\\nimport pandas as pd\\nimport xarray as xr\\nimport proplot as plot\\nimport seaborn as sb\";\n",
       "                var nbb_cells = Jupyter.notebook.get_cells();\n",
       "                for (var i = 0; i < nbb_cells.length; ++i) {\n",
       "                    if (nbb_cells[i].input_prompt_number == nbb_cell_id) {\n",
       "                        if (nbb_cells[i].get_text() == nbb_unformatted_code) {\n",
       "                             nbb_cells[i].set_text(nbb_formatted_code);\n",
       "                        }\n",
       "                        break;\n",
       "                    }\n",
       "                }\n",
       "            }, 500);\n",
       "            "
      ],
      "text/plain": [
       "<IPython.core.display.Javascript object>"
      ]
     },
     "metadata": {},
     "output_type": "display_data"
    }
   ],
   "source": [
    "import cftime\n",
    "import numpy as np\n",
    "import pandas as pd\n",
    "import xarray as xr\n",
    "import proplot as plot\n",
    "import seaborn as sb"
   ]
  },
  {
   "cell_type": "code",
   "execution_count": 3,
   "metadata": {},
   "outputs": [
    {
     "data": {
      "application/javascript": [
       "\n",
       "            setTimeout(function() {\n",
       "                var nbb_cell_id = 3;\n",
       "                var nbb_unformatted_code = \"data = pd.read_csv(\\\"../data/boulder_daily_weather.csv\\\")\";\n",
       "                var nbb_formatted_code = \"data = pd.read_csv(\\\"../data/boulder_daily_weather.csv\\\")\";\n",
       "                var nbb_cells = Jupyter.notebook.get_cells();\n",
       "                for (var i = 0; i < nbb_cells.length; ++i) {\n",
       "                    if (nbb_cells[i].input_prompt_number == nbb_cell_id) {\n",
       "                        if (nbb_cells[i].get_text() == nbb_unformatted_code) {\n",
       "                             nbb_cells[i].set_text(nbb_formatted_code);\n",
       "                        }\n",
       "                        break;\n",
       "                    }\n",
       "                }\n",
       "            }, 500);\n",
       "            "
      ],
      "text/plain": [
       "<IPython.core.display.Javascript object>"
      ]
     },
     "metadata": {},
     "output_type": "display_data"
    }
   ],
   "source": [
    "data = pd.read_csv(\"../data/boulder_daily_weather.csv\")"
   ]
  },
  {
   "cell_type": "code",
   "execution_count": 4,
   "metadata": {},
   "outputs": [
    {
     "data": {
      "application/javascript": [
       "\n",
       "            setTimeout(function() {\n",
       "                var nbb_cell_id = 4;\n",
       "                var nbb_unformatted_code = \"# Snow totals do not start until August 1948.\\ndata = data[data.year >= 1948]\";\n",
       "                var nbb_formatted_code = \"# Snow totals do not start until August 1948.\\ndata = data[data.year >= 1948]\";\n",
       "                var nbb_cells = Jupyter.notebook.get_cells();\n",
       "                for (var i = 0; i < nbb_cells.length; ++i) {\n",
       "                    if (nbb_cells[i].input_prompt_number == nbb_cell_id) {\n",
       "                        if (nbb_cells[i].get_text() == nbb_unformatted_code) {\n",
       "                             nbb_cells[i].set_text(nbb_formatted_code);\n",
       "                        }\n",
       "                        break;\n",
       "                    }\n",
       "                }\n",
       "            }, 500);\n",
       "            "
      ],
      "text/plain": [
       "<IPython.core.display.Javascript object>"
      ]
     },
     "metadata": {},
     "output_type": "display_data"
    }
   ],
   "source": [
    "# Snow totals do not start until August 1948.\n",
    "data = data[data.year >= 1948]"
   ]
  },
  {
   "cell_type": "code",
   "execution_count": 5,
   "metadata": {},
   "outputs": [
    {
     "data": {
      "application/javascript": [
       "\n",
       "            setTimeout(function() {\n",
       "                var nbb_cell_id = 5;\n",
       "                var nbb_unformatted_code = \"datetime = []\\nfor index, row in data.iterrows():\\n    # ESRL has a leap year every year (Feb 29th) but puts missing data for non\\n    # leap years. This makes the datetime conversion a little easier.\\n    datetime.append(cftime.DatetimeAllLeap(row[\\\"year\\\"], row[\\\"mon\\\"], row[\\\"day\\\"]))\";\n",
       "                var nbb_formatted_code = \"datetime = []\\nfor index, row in data.iterrows():\\n    # ESRL has a leap year every year (Feb 29th) but puts missing data for non\\n    # leap years. This makes the datetime conversion a little easier.\\n    datetime.append(cftime.DatetimeAllLeap(row[\\\"year\\\"], row[\\\"mon\\\"], row[\\\"day\\\"]))\";\n",
       "                var nbb_cells = Jupyter.notebook.get_cells();\n",
       "                for (var i = 0; i < nbb_cells.length; ++i) {\n",
       "                    if (nbb_cells[i].input_prompt_number == nbb_cell_id) {\n",
       "                        if (nbb_cells[i].get_text() == nbb_unformatted_code) {\n",
       "                             nbb_cells[i].set_text(nbb_formatted_code);\n",
       "                        }\n",
       "                        break;\n",
       "                    }\n",
       "                }\n",
       "            }, 500);\n",
       "            "
      ],
      "text/plain": [
       "<IPython.core.display.Javascript object>"
      ]
     },
     "metadata": {},
     "output_type": "display_data"
    }
   ],
   "source": [
    "datetime = []\n",
    "for index, row in data.iterrows():\n",
    "    # ESRL has a leap year every year (Feb 29th) but puts missing data for non\n",
    "    # leap years. This makes the datetime conversion a little easier.\n",
    "    datetime.append(cftime.DatetimeAllLeap(row[\"year\"], row[\"mon\"], row[\"day\"]))"
   ]
  },
  {
   "cell_type": "code",
   "execution_count": 6,
   "metadata": {},
   "outputs": [
    {
     "data": {
      "application/javascript": [
       "\n",
       "            setTimeout(function() {\n",
       "                var nbb_cell_id = 6;\n",
       "                var nbb_unformatted_code = \"ds = xr.DataArray(data[\\\"snow (in)\\\"], dims=[\\\"time\\\"], coords=[datetime]).rename(\\\"snow\\\")\";\n",
       "                var nbb_formatted_code = \"ds = xr.DataArray(data[\\\"snow (in)\\\"], dims=[\\\"time\\\"], coords=[datetime]).rename(\\\"snow\\\")\";\n",
       "                var nbb_cells = Jupyter.notebook.get_cells();\n",
       "                for (var i = 0; i < nbb_cells.length; ++i) {\n",
       "                    if (nbb_cells[i].input_prompt_number == nbb_cell_id) {\n",
       "                        if (nbb_cells[i].get_text() == nbb_unformatted_code) {\n",
       "                             nbb_cells[i].set_text(nbb_formatted_code);\n",
       "                        }\n",
       "                        break;\n",
       "                    }\n",
       "                }\n",
       "            }, 500);\n",
       "            "
      ],
      "text/plain": [
       "<IPython.core.display.Javascript object>"
      ]
     },
     "metadata": {},
     "output_type": "display_data"
    }
   ],
   "source": [
    "ds = xr.DataArray(data[\"snow (in)\"], dims=[\"time\"], coords=[datetime]).rename(\"snow\")"
   ]
  },
  {
   "cell_type": "code",
   "execution_count": 7,
   "metadata": {},
   "outputs": [
    {
     "data": {
      "application/javascript": [
       "\n",
       "            setTimeout(function() {\n",
       "                var nbb_cell_id = 7;\n",
       "                var nbb_unformatted_code = \"# Get rid of trace amounts or no snow -- convert to NaN.\\nds = ds.where(ds >= 0)\";\n",
       "                var nbb_formatted_code = \"# Get rid of trace amounts or no snow -- convert to NaN.\\nds = ds.where(ds >= 0)\";\n",
       "                var nbb_cells = Jupyter.notebook.get_cells();\n",
       "                for (var i = 0; i < nbb_cells.length; ++i) {\n",
       "                    if (nbb_cells[i].input_prompt_number == nbb_cell_id) {\n",
       "                        if (nbb_cells[i].get_text() == nbb_unformatted_code) {\n",
       "                             nbb_cells[i].set_text(nbb_formatted_code);\n",
       "                        }\n",
       "                        break;\n",
       "                    }\n",
       "                }\n",
       "            }, 500);\n",
       "            "
      ],
      "text/plain": [
       "<IPython.core.display.Javascript object>"
      ]
     },
     "metadata": {},
     "output_type": "display_data"
    }
   ],
   "source": [
    "# Get rid of trace amounts or no snow -- convert to NaN.\n",
    "ds = ds.where(ds >= 0)"
   ]
  },
  {
   "cell_type": "markdown",
   "metadata": {},
   "source": [
    "No snow has fallen in July or August since 1948. (Showing the total sum inches for each month)"
   ]
  },
  {
   "cell_type": "code",
   "execution_count": 8,
   "metadata": {},
   "outputs": [
    {
     "data": {
      "text/html": [
       "<div><svg style=\"position: absolute; width: 0; height: 0; overflow: hidden\">\n",
       "<defs>\n",
       "<symbol id=\"icon-database\" viewBox=\"0 0 32 32\">\n",
       "<path d=\"M16 0c-8.837 0-16 2.239-16 5v4c0 2.761 7.163 5 16 5s16-2.239 16-5v-4c0-2.761-7.163-5-16-5z\"></path>\n",
       "<path d=\"M16 17c-8.837 0-16-2.239-16-5v6c0 2.761 7.163 5 16 5s16-2.239 16-5v-6c0 2.761-7.163 5-16 5z\"></path>\n",
       "<path d=\"M16 26c-8.837 0-16-2.239-16-5v6c0 2.761 7.163 5 16 5s16-2.239 16-5v-6c0 2.761-7.163 5-16 5z\"></path>\n",
       "</symbol>\n",
       "<symbol id=\"icon-file-text2\" viewBox=\"0 0 32 32\">\n",
       "<path d=\"M28.681 7.159c-0.694-0.947-1.662-2.053-2.724-3.116s-2.169-2.030-3.116-2.724c-1.612-1.182-2.393-1.319-2.841-1.319h-15.5c-1.378 0-2.5 1.121-2.5 2.5v27c0 1.378 1.122 2.5 2.5 2.5h23c1.378 0 2.5-1.122 2.5-2.5v-19.5c0-0.448-0.137-1.23-1.319-2.841zM24.543 5.457c0.959 0.959 1.712 1.825 2.268 2.543h-4.811v-4.811c0.718 0.556 1.584 1.309 2.543 2.268zM28 29.5c0 0.271-0.229 0.5-0.5 0.5h-23c-0.271 0-0.5-0.229-0.5-0.5v-27c0-0.271 0.229-0.5 0.5-0.5 0 0 15.499-0 15.5 0v7c0 0.552 0.448 1 1 1h7v19.5z\"></path>\n",
       "<path d=\"M23 26h-14c-0.552 0-1-0.448-1-1s0.448-1 1-1h14c0.552 0 1 0.448 1 1s-0.448 1-1 1z\"></path>\n",
       "<path d=\"M23 22h-14c-0.552 0-1-0.448-1-1s0.448-1 1-1h14c0.552 0 1 0.448 1 1s-0.448 1-1 1z\"></path>\n",
       "<path d=\"M23 18h-14c-0.552 0-1-0.448-1-1s0.448-1 1-1h14c0.552 0 1 0.448 1 1s-0.448 1-1 1z\"></path>\n",
       "</symbol>\n",
       "</defs>\n",
       "</svg>\n",
       "<style>/* CSS stylesheet for displaying xarray objects in jupyterlab.\n",
       " *\n",
       " */\n",
       "\n",
       ":root {\n",
       "  --xr-font-color0: var(--jp-content-font-color0, rgba(0, 0, 0, 1));\n",
       "  --xr-font-color2: var(--jp-content-font-color2, rgba(0, 0, 0, 0.54));\n",
       "  --xr-font-color3: var(--jp-content-font-color3, rgba(0, 0, 0, 0.38));\n",
       "  --xr-border-color: var(--jp-border-color2, #e0e0e0);\n",
       "  --xr-disabled-color: var(--jp-layout-color3, #bdbdbd);\n",
       "  --xr-background-color: var(--jp-layout-color0, white);\n",
       "  --xr-background-color-row-even: var(--jp-layout-color1, white);\n",
       "  --xr-background-color-row-odd: var(--jp-layout-color2, #eeeeee);\n",
       "}\n",
       "\n",
       "html[theme=dark],\n",
       "body.vscode-dark {\n",
       "  --xr-font-color0: rgba(255, 255, 255, 1);\n",
       "  --xr-font-color2: rgba(255, 255, 255, 0.54);\n",
       "  --xr-font-color3: rgba(255, 255, 255, 0.38);\n",
       "  --xr-border-color: #1F1F1F;\n",
       "  --xr-disabled-color: #515151;\n",
       "  --xr-background-color: #111111;\n",
       "  --xr-background-color-row-even: #111111;\n",
       "  --xr-background-color-row-odd: #313131;\n",
       "}\n",
       "\n",
       ".xr-wrap {\n",
       "  display: block;\n",
       "  min-width: 300px;\n",
       "  max-width: 700px;\n",
       "}\n",
       "\n",
       ".xr-text-repr-fallback {\n",
       "  /* fallback to plain text repr when CSS is not injected (untrusted notebook) */\n",
       "  display: none;\n",
       "}\n",
       "\n",
       ".xr-header {\n",
       "  padding-top: 6px;\n",
       "  padding-bottom: 6px;\n",
       "  margin-bottom: 4px;\n",
       "  border-bottom: solid 1px var(--xr-border-color);\n",
       "}\n",
       "\n",
       ".xr-header > div,\n",
       ".xr-header > ul {\n",
       "  display: inline;\n",
       "  margin-top: 0;\n",
       "  margin-bottom: 0;\n",
       "}\n",
       "\n",
       ".xr-obj-type,\n",
       ".xr-array-name {\n",
       "  margin-left: 2px;\n",
       "  margin-right: 10px;\n",
       "}\n",
       "\n",
       ".xr-obj-type {\n",
       "  color: var(--xr-font-color2);\n",
       "}\n",
       "\n",
       ".xr-sections {\n",
       "  padding-left: 0 !important;\n",
       "  display: grid;\n",
       "  grid-template-columns: 150px auto auto 1fr 20px 20px;\n",
       "}\n",
       "\n",
       ".xr-section-item {\n",
       "  display: contents;\n",
       "}\n",
       "\n",
       ".xr-section-item input {\n",
       "  display: none;\n",
       "}\n",
       "\n",
       ".xr-section-item input + label {\n",
       "  color: var(--xr-disabled-color);\n",
       "}\n",
       "\n",
       ".xr-section-item input:enabled + label {\n",
       "  cursor: pointer;\n",
       "  color: var(--xr-font-color2);\n",
       "}\n",
       "\n",
       ".xr-section-item input:enabled + label:hover {\n",
       "  color: var(--xr-font-color0);\n",
       "}\n",
       "\n",
       ".xr-section-summary {\n",
       "  grid-column: 1;\n",
       "  color: var(--xr-font-color2);\n",
       "  font-weight: 500;\n",
       "}\n",
       "\n",
       ".xr-section-summary > span {\n",
       "  display: inline-block;\n",
       "  padding-left: 0.5em;\n",
       "}\n",
       "\n",
       ".xr-section-summary-in:disabled + label {\n",
       "  color: var(--xr-font-color2);\n",
       "}\n",
       "\n",
       ".xr-section-summary-in + label:before {\n",
       "  display: inline-block;\n",
       "  content: '►';\n",
       "  font-size: 11px;\n",
       "  width: 15px;\n",
       "  text-align: center;\n",
       "}\n",
       "\n",
       ".xr-section-summary-in:disabled + label:before {\n",
       "  color: var(--xr-disabled-color);\n",
       "}\n",
       "\n",
       ".xr-section-summary-in:checked + label:before {\n",
       "  content: '▼';\n",
       "}\n",
       "\n",
       ".xr-section-summary-in:checked + label > span {\n",
       "  display: none;\n",
       "}\n",
       "\n",
       ".xr-section-summary,\n",
       ".xr-section-inline-details {\n",
       "  padding-top: 4px;\n",
       "  padding-bottom: 4px;\n",
       "}\n",
       "\n",
       ".xr-section-inline-details {\n",
       "  grid-column: 2 / -1;\n",
       "}\n",
       "\n",
       ".xr-section-details {\n",
       "  display: none;\n",
       "  grid-column: 1 / -1;\n",
       "  margin-bottom: 5px;\n",
       "}\n",
       "\n",
       ".xr-section-summary-in:checked ~ .xr-section-details {\n",
       "  display: contents;\n",
       "}\n",
       "\n",
       ".xr-array-wrap {\n",
       "  grid-column: 1 / -1;\n",
       "  display: grid;\n",
       "  grid-template-columns: 20px auto;\n",
       "}\n",
       "\n",
       ".xr-array-wrap > label {\n",
       "  grid-column: 1;\n",
       "  vertical-align: top;\n",
       "}\n",
       "\n",
       ".xr-preview {\n",
       "  color: var(--xr-font-color3);\n",
       "}\n",
       "\n",
       ".xr-array-preview,\n",
       ".xr-array-data {\n",
       "  padding: 0 5px !important;\n",
       "  grid-column: 2;\n",
       "}\n",
       "\n",
       ".xr-array-data,\n",
       ".xr-array-in:checked ~ .xr-array-preview {\n",
       "  display: none;\n",
       "}\n",
       "\n",
       ".xr-array-in:checked ~ .xr-array-data,\n",
       ".xr-array-preview {\n",
       "  display: inline-block;\n",
       "}\n",
       "\n",
       ".xr-dim-list {\n",
       "  display: inline-block !important;\n",
       "  list-style: none;\n",
       "  padding: 0 !important;\n",
       "  margin: 0;\n",
       "}\n",
       "\n",
       ".xr-dim-list li {\n",
       "  display: inline-block;\n",
       "  padding: 0;\n",
       "  margin: 0;\n",
       "}\n",
       "\n",
       ".xr-dim-list:before {\n",
       "  content: '(';\n",
       "}\n",
       "\n",
       ".xr-dim-list:after {\n",
       "  content: ')';\n",
       "}\n",
       "\n",
       ".xr-dim-list li:not(:last-child):after {\n",
       "  content: ',';\n",
       "  padding-right: 5px;\n",
       "}\n",
       "\n",
       ".xr-has-index {\n",
       "  font-weight: bold;\n",
       "}\n",
       "\n",
       ".xr-var-list,\n",
       ".xr-var-item {\n",
       "  display: contents;\n",
       "}\n",
       "\n",
       ".xr-var-item > div,\n",
       ".xr-var-item label,\n",
       ".xr-var-item > .xr-var-name span {\n",
       "  background-color: var(--xr-background-color-row-even);\n",
       "  margin-bottom: 0;\n",
       "}\n",
       "\n",
       ".xr-var-item > .xr-var-name:hover span {\n",
       "  padding-right: 5px;\n",
       "}\n",
       "\n",
       ".xr-var-list > li:nth-child(odd) > div,\n",
       ".xr-var-list > li:nth-child(odd) > label,\n",
       ".xr-var-list > li:nth-child(odd) > .xr-var-name span {\n",
       "  background-color: var(--xr-background-color-row-odd);\n",
       "}\n",
       "\n",
       ".xr-var-name {\n",
       "  grid-column: 1;\n",
       "}\n",
       "\n",
       ".xr-var-dims {\n",
       "  grid-column: 2;\n",
       "}\n",
       "\n",
       ".xr-var-dtype {\n",
       "  grid-column: 3;\n",
       "  text-align: right;\n",
       "  color: var(--xr-font-color2);\n",
       "}\n",
       "\n",
       ".xr-var-preview {\n",
       "  grid-column: 4;\n",
       "}\n",
       "\n",
       ".xr-var-name,\n",
       ".xr-var-dims,\n",
       ".xr-var-dtype,\n",
       ".xr-preview,\n",
       ".xr-attrs dt {\n",
       "  white-space: nowrap;\n",
       "  overflow: hidden;\n",
       "  text-overflow: ellipsis;\n",
       "  padding-right: 10px;\n",
       "}\n",
       "\n",
       ".xr-var-name:hover,\n",
       ".xr-var-dims:hover,\n",
       ".xr-var-dtype:hover,\n",
       ".xr-attrs dt:hover {\n",
       "  overflow: visible;\n",
       "  width: auto;\n",
       "  z-index: 1;\n",
       "}\n",
       "\n",
       ".xr-var-attrs,\n",
       ".xr-var-data {\n",
       "  display: none;\n",
       "  background-color: var(--xr-background-color) !important;\n",
       "  padding-bottom: 5px !important;\n",
       "}\n",
       "\n",
       ".xr-var-attrs-in:checked ~ .xr-var-attrs,\n",
       ".xr-var-data-in:checked ~ .xr-var-data {\n",
       "  display: block;\n",
       "}\n",
       "\n",
       ".xr-var-data > table {\n",
       "  float: right;\n",
       "}\n",
       "\n",
       ".xr-var-name span,\n",
       ".xr-var-data,\n",
       ".xr-attrs {\n",
       "  padding-left: 25px !important;\n",
       "}\n",
       "\n",
       ".xr-attrs,\n",
       ".xr-var-attrs,\n",
       ".xr-var-data {\n",
       "  grid-column: 1 / -1;\n",
       "}\n",
       "\n",
       "dl.xr-attrs {\n",
       "  padding: 0;\n",
       "  margin: 0;\n",
       "  display: grid;\n",
       "  grid-template-columns: 125px auto;\n",
       "}\n",
       "\n",
       ".xr-attrs dt,\n",
       ".xr-attrs dd {\n",
       "  padding: 0;\n",
       "  margin: 0;\n",
       "  float: left;\n",
       "  padding-right: 10px;\n",
       "  width: auto;\n",
       "}\n",
       "\n",
       ".xr-attrs dt {\n",
       "  font-weight: normal;\n",
       "  grid-column: 1;\n",
       "}\n",
       "\n",
       ".xr-attrs dt:hover span {\n",
       "  display: inline-block;\n",
       "  background: var(--xr-background-color);\n",
       "  padding-right: 10px;\n",
       "}\n",
       "\n",
       ".xr-attrs dd {\n",
       "  grid-column: 2;\n",
       "  white-space: pre-wrap;\n",
       "  word-break: break-all;\n",
       "}\n",
       "\n",
       ".xr-icon-database,\n",
       ".xr-icon-file-text2 {\n",
       "  display: inline-block;\n",
       "  vertical-align: middle;\n",
       "  width: 1em;\n",
       "  height: 1.5em !important;\n",
       "  stroke-width: 0;\n",
       "  stroke: currentColor;\n",
       "  fill: currentColor;\n",
       "}\n",
       "</style><pre class='xr-text-repr-fallback'>&lt;xarray.DataArray &#x27;snow&#x27; (month: 12)&gt;\n",
       "array([ 777.9,  912.9, 1179.2,  883.6,  128.1,    2.3,    0. ,    0. ,\n",
       "         88. ,  411.1,  870.4,  848.9])\n",
       "Coordinates:\n",
       "  * month    (month) int64 1 2 3 4 5 6 7 8 9 10 11 12</pre><div class='xr-wrap' hidden><div class='xr-header'><div class='xr-obj-type'>xarray.DataArray</div><div class='xr-array-name'>'snow'</div><ul class='xr-dim-list'><li><span class='xr-has-index'>month</span>: 12</li></ul></div><ul class='xr-sections'><li class='xr-section-item'><div class='xr-array-wrap'><input id='section-fa1746e8-d315-416e-a2d8-f029b3e01553' class='xr-array-in' type='checkbox' checked><label for='section-fa1746e8-d315-416e-a2d8-f029b3e01553' title='Show/hide data repr'><svg class='icon xr-icon-database'><use xlink:href='#icon-database'></use></svg></label><div class='xr-array-preview xr-preview'><span>777.9 912.9 1.179e+03 883.6 128.1 2.3 0.0 0.0 88.0 411.1 870.4 848.9</span></div><div class='xr-array-data'><pre>array([ 777.9,  912.9, 1179.2,  883.6,  128.1,    2.3,    0. ,    0. ,\n",
       "         88. ,  411.1,  870.4,  848.9])</pre></div></div></li><li class='xr-section-item'><input id='section-29b1fc9d-d691-4dfe-80c1-4d9067b6ff96' class='xr-section-summary-in' type='checkbox'  checked><label for='section-29b1fc9d-d691-4dfe-80c1-4d9067b6ff96' class='xr-section-summary' >Coordinates: <span>(1)</span></label><div class='xr-section-inline-details'></div><div class='xr-section-details'><ul class='xr-var-list'><li class='xr-var-item'><div class='xr-var-name'><span class='xr-has-index'>month</span></div><div class='xr-var-dims'>(month)</div><div class='xr-var-dtype'>int64</div><div class='xr-var-preview xr-preview'>1 2 3 4 5 6 7 8 9 10 11 12</div><input id='attrs-b59c447c-07dc-4424-8f97-ab479f7c083c' class='xr-var-attrs-in' type='checkbox' disabled><label for='attrs-b59c447c-07dc-4424-8f97-ab479f7c083c' title='Show/Hide attributes'><svg class='icon xr-icon-file-text2'><use xlink:href='#icon-file-text2'></use></svg></label><input id='data-84f70003-5653-412b-b6f1-9061c29a2ce6' class='xr-var-data-in' type='checkbox'><label for='data-84f70003-5653-412b-b6f1-9061c29a2ce6' title='Show/Hide data repr'><svg class='icon xr-icon-database'><use xlink:href='#icon-database'></use></svg></label><div class='xr-var-attrs'><dl class='xr-attrs'></dl></div><div class='xr-var-data'><pre>array([ 1,  2,  3,  4,  5,  6,  7,  8,  9, 10, 11, 12])</pre></div></li></ul></div></li><li class='xr-section-item'><input id='section-fafdd08e-33e7-434c-bfde-3729872fe5ed' class='xr-section-summary-in' type='checkbox' disabled ><label for='section-fafdd08e-33e7-434c-bfde-3729872fe5ed' class='xr-section-summary'  title='Expand/collapse section'>Attributes: <span>(0)</span></label><div class='xr-section-inline-details'></div><div class='xr-section-details'><dl class='xr-attrs'></dl></div></li></ul></div></div>"
      ],
      "text/plain": [
       "<xarray.DataArray 'snow' (month: 12)>\n",
       "array([ 777.9,  912.9, 1179.2,  883.6,  128.1,    2.3,    0. ,    0. ,\n",
       "         88. ,  411.1,  870.4,  848.9])\n",
       "Coordinates:\n",
       "  * month    (month) int64 1 2 3 4 5 6 7 8 9 10 11 12"
      ]
     },
     "execution_count": 8,
     "metadata": {},
     "output_type": "execute_result"
    },
    {
     "data": {
      "application/javascript": [
       "\n",
       "            setTimeout(function() {\n",
       "                var nbb_cell_id = 8;\n",
       "                var nbb_unformatted_code = \"ds.groupby(\\\"time.month\\\").sum(\\\"time\\\")\";\n",
       "                var nbb_formatted_code = \"ds.groupby(\\\"time.month\\\").sum(\\\"time\\\")\";\n",
       "                var nbb_cells = Jupyter.notebook.get_cells();\n",
       "                for (var i = 0; i < nbb_cells.length; ++i) {\n",
       "                    if (nbb_cells[i].input_prompt_number == nbb_cell_id) {\n",
       "                        if (nbb_cells[i].get_text() == nbb_unformatted_code) {\n",
       "                             nbb_cells[i].set_text(nbb_formatted_code);\n",
       "                        }\n",
       "                        break;\n",
       "                    }\n",
       "                }\n",
       "            }, 500);\n",
       "            "
      ],
      "text/plain": [
       "<IPython.core.display.Javascript object>"
      ]
     },
     "metadata": {},
     "output_type": "display_data"
    }
   ],
   "source": [
    "ds.groupby(\"time.month\").sum(\"time\")"
   ]
  },
  {
   "cell_type": "markdown",
   "metadata": {},
   "source": [
    "Can safely find the \"first snow\" by looking at the September - December range for each year."
   ]
  },
  {
   "cell_type": "code",
   "execution_count": 9,
   "metadata": {},
   "outputs": [
    {
     "data": {
      "application/javascript": [
       "\n",
       "            setTimeout(function() {\n",
       "                var nbb_cell_id = 9;\n",
       "                var nbb_unformatted_code = \"def find_first_snow(ds, year):\\n    \\\"\\\"\\\"Finds the cftime date of the first snow of the given year.\\n\\n    Args:\\n        ds (xr.DataArray or xr.Dataset): xarray object with daily\\n            time coordinate and values as snow totals.\\n        year (int): Year being assessed for first snow.\\n\\n    Returns:\\n        cfdate of first snow for the given year.\\n    \\\"\\\"\\\"\\n    if year == 1989:\\n        return np.nan\\n    # Per NOAA website, there is an error in their data for this year.\\n    elif year == 1978:\\n        return cftime.DatetimeAllLeap(1978, 10, 23, 0, 0, 0)\\n    # Their data shows 0.08in snow on August 1st for some reason. Sep 8th\\n    # was certainly the first snow last year.\\n    elif year == 2020:\\n        return cftime.DatetimeAllLeap(2020, 9, 8, 0, 0, 0)\\n    # Put latest year in manually since the database is not yet updated.\\n    elif year == 2021:\\n        return cftime.DatetimeAllLeap(2021, 11, 17, 0, 0, 0)\\n    annual_subset = ds.sel(time=slice(f\\\"{year}-08\\\", f\\\"{year}-12\\\"))\\n    try:\\n        idx = (annual_subset > 0).argmax(\\\"time\\\")\\n        cfdate = annual_subset[\\\"time\\\"].to_index()[int(idx)]\\n    except ValueError:\\n        cfdate = np.nan\\n    return cfdate\";\n",
       "                var nbb_formatted_code = \"def find_first_snow(ds, year):\\n    \\\"\\\"\\\"Finds the cftime date of the first snow of the given year.\\n\\n    Args:\\n        ds (xr.DataArray or xr.Dataset): xarray object with daily\\n            time coordinate and values as snow totals.\\n        year (int): Year being assessed for first snow.\\n\\n    Returns:\\n        cfdate of first snow for the given year.\\n    \\\"\\\"\\\"\\n    if year == 1989:\\n        return np.nan\\n    # Per NOAA website, there is an error in their data for this year.\\n    elif year == 1978:\\n        return cftime.DatetimeAllLeap(1978, 10, 23, 0, 0, 0)\\n    # Their data shows 0.08in snow on August 1st for some reason. Sep 8th\\n    # was certainly the first snow last year.\\n    elif year == 2020:\\n        return cftime.DatetimeAllLeap(2020, 9, 8, 0, 0, 0)\\n    # Put latest year in manually since the database is not yet updated.\\n    elif year == 2021:\\n        return cftime.DatetimeAllLeap(2021, 11, 17, 0, 0, 0)\\n    annual_subset = ds.sel(time=slice(f\\\"{year}-08\\\", f\\\"{year}-12\\\"))\\n    try:\\n        idx = (annual_subset > 0).argmax(\\\"time\\\")\\n        cfdate = annual_subset[\\\"time\\\"].to_index()[int(idx)]\\n    except ValueError:\\n        cfdate = np.nan\\n    return cfdate\";\n",
       "                var nbb_cells = Jupyter.notebook.get_cells();\n",
       "                for (var i = 0; i < nbb_cells.length; ++i) {\n",
       "                    if (nbb_cells[i].input_prompt_number == nbb_cell_id) {\n",
       "                        if (nbb_cells[i].get_text() == nbb_unformatted_code) {\n",
       "                             nbb_cells[i].set_text(nbb_formatted_code);\n",
       "                        }\n",
       "                        break;\n",
       "                    }\n",
       "                }\n",
       "            }, 500);\n",
       "            "
      ],
      "text/plain": [
       "<IPython.core.display.Javascript object>"
      ]
     },
     "metadata": {},
     "output_type": "display_data"
    }
   ],
   "source": [
    "def find_first_snow(ds, year):\n",
    "    \"\"\"Finds the cftime date of the first snow of the given year.\n",
    "\n",
    "    Args:\n",
    "        ds (xr.DataArray or xr.Dataset): xarray object with daily\n",
    "            time coordinate and values as snow totals.\n",
    "        year (int): Year being assessed for first snow.\n",
    "\n",
    "    Returns:\n",
    "        cfdate of first snow for the given year.\n",
    "    \"\"\"\n",
    "    if year == 1989:\n",
    "        return np.nan\n",
    "    # Per NOAA website, there is an error in their data for this year.\n",
    "    elif year == 1978:\n",
    "        return cftime.DatetimeAllLeap(1978, 10, 23, 0, 0, 0)\n",
    "    # Their data shows 0.08in snow on August 1st for some reason. Sep 8th\n",
    "    # was certainly the first snow last year.\n",
    "    elif year == 2020:\n",
    "        return cftime.DatetimeAllLeap(2020, 9, 8, 0, 0, 0)\n",
    "    # Put latest year in manually since the database is not yet updated.\n",
    "    elif year == 2021:\n",
    "        return cftime.DatetimeAllLeap(2021, 11, 17, 0, 0, 0)\n",
    "    annual_subset = ds.sel(time=slice(f\"{year}-08\", f\"{year}-12\"))\n",
    "    try:\n",
    "        idx = (annual_subset > 0).argmax(\"time\")\n",
    "        cfdate = annual_subset[\"time\"].to_index()[int(idx)]\n",
    "    except ValueError:\n",
    "        cfdate = np.nan\n",
    "    return cfdate"
   ]
  },
  {
   "cell_type": "code",
   "execution_count": 10,
   "metadata": {},
   "outputs": [
    {
     "data": {
      "application/javascript": [
       "\n",
       "            setTimeout(function() {\n",
       "                var nbb_cell_id = 10;\n",
       "                var nbb_unformatted_code = \"result = [find_first_snow(ds, year) for year in np.arange(1948, 2022)]\\nresult = xr.DataArray(result, dims=[\\\"year\\\"], coords=[np.arange(1948, 2022)])\";\n",
       "                var nbb_formatted_code = \"result = [find_first_snow(ds, year) for year in np.arange(1948, 2022)]\\nresult = xr.DataArray(result, dims=[\\\"year\\\"], coords=[np.arange(1948, 2022)])\";\n",
       "                var nbb_cells = Jupyter.notebook.get_cells();\n",
       "                for (var i = 0; i < nbb_cells.length; ++i) {\n",
       "                    if (nbb_cells[i].input_prompt_number == nbb_cell_id) {\n",
       "                        if (nbb_cells[i].get_text() == nbb_unformatted_code) {\n",
       "                             nbb_cells[i].set_text(nbb_formatted_code);\n",
       "                        }\n",
       "                        break;\n",
       "                    }\n",
       "                }\n",
       "            }, 500);\n",
       "            "
      ],
      "text/plain": [
       "<IPython.core.display.Javascript object>"
      ]
     },
     "metadata": {},
     "output_type": "display_data"
    }
   ],
   "source": [
    "result = [find_first_snow(ds, year) for year in np.arange(1948, 2022)]\n",
    "result = xr.DataArray(result, dims=[\"year\"], coords=[np.arange(1948, 2022)])"
   ]
  },
  {
   "cell_type": "code",
   "execution_count": 11,
   "metadata": {},
   "outputs": [
    {
     "data": {
      "application/javascript": [
       "\n",
       "            setTimeout(function() {\n",
       "                var nbb_cell_id = 11;\n",
       "                var nbb_unformatted_code = \"# Remove missing data from 1989.\\nresult = result.dropna(\\\"year\\\")\";\n",
       "                var nbb_formatted_code = \"# Remove missing data from 1989.\\nresult = result.dropna(\\\"year\\\")\";\n",
       "                var nbb_cells = Jupyter.notebook.get_cells();\n",
       "                for (var i = 0; i < nbb_cells.length; ++i) {\n",
       "                    if (nbb_cells[i].input_prompt_number == nbb_cell_id) {\n",
       "                        if (nbb_cells[i].get_text() == nbb_unformatted_code) {\n",
       "                             nbb_cells[i].set_text(nbb_formatted_code);\n",
       "                        }\n",
       "                        break;\n",
       "                    }\n",
       "                }\n",
       "            }, 500);\n",
       "            "
      ],
      "text/plain": [
       "<IPython.core.display.Javascript object>"
      ]
     },
     "metadata": {},
     "output_type": "display_data"
    }
   ],
   "source": [
    "# Remove missing data from 1989.\n",
    "result = result.dropna(\"year\")"
   ]
  },
  {
   "cell_type": "code",
   "execution_count": 12,
   "metadata": {},
   "outputs": [
    {
     "data": {
      "application/javascript": [
       "\n",
       "            setTimeout(function() {\n",
       "                var nbb_cell_id = 12;\n",
       "                var nbb_unformatted_code = \"# Get the month to separate into colors and dayofyear\\n# for plotting.\\nymonth = result.to_index().month\\nyday = result.to_index().dayofyear\";\n",
       "                var nbb_formatted_code = \"# Get the month to separate into colors and dayofyear\\n# for plotting.\\nymonth = result.to_index().month\\nyday = result.to_index().dayofyear\";\n",
       "                var nbb_cells = Jupyter.notebook.get_cells();\n",
       "                for (var i = 0; i < nbb_cells.length; ++i) {\n",
       "                    if (nbb_cells[i].input_prompt_number == nbb_cell_id) {\n",
       "                        if (nbb_cells[i].get_text() == nbb_unformatted_code) {\n",
       "                             nbb_cells[i].set_text(nbb_formatted_code);\n",
       "                        }\n",
       "                        break;\n",
       "                    }\n",
       "                }\n",
       "            }, 500);\n",
       "            "
      ],
      "text/plain": [
       "<IPython.core.display.Javascript object>"
      ]
     },
     "metadata": {},
     "output_type": "display_data"
    }
   ],
   "source": [
    "# Get the month to separate into colors and dayofyear\n",
    "# for plotting.\n",
    "ymonth = result.to_index().month\n",
    "yday = result.to_index().dayofyear"
   ]
  },
  {
   "cell_type": "code",
   "execution_count": 13,
   "metadata": {},
   "outputs": [
    {
     "data": {
      "text/plain": [
       "<matplotlib.lines.Line2D at 0x1a8094790>"
      ]
     },
     "execution_count": 13,
     "metadata": {},
     "output_type": "execute_result"
    },
    {
     "name": "stderr",
     "output_type": "stream",
     "text": [
      "findfont: Font family [\"'Helvetica Light'\"] not found. Falling back to DejaVu Sans.\n"
     ]
    },
    {
     "data": {
      "image/png": "[encoded data removed]",
      "text/plain": [
       "Figure(nrows=1, ncols=1, refwidth=2.5)"
      ]
     },
     "metadata": {
      "image/png": {
       "height": 283,
       "width": 286
      }
     },
     "output_type": "display_data"
    },
    {
     "data": {
      "application/javascript": [
       "\n",
       "            setTimeout(function() {\n",
       "                var nbb_cell_id = 13;\n",
       "                var nbb_unformatted_code = \"f, ax = plot.subplots()\\nax.hist(yday)\\n# Add red dashed line for today's snow.\\nax.axvline(yday[-1], color=\\\"cherry\\\", linestyle=\\\"--\\\")\";\n",
       "                var nbb_formatted_code = \"f, ax = plot.subplots()\\nax.hist(yday)\\n# Add red dashed line for today's snow.\\nax.axvline(yday[-1], color=\\\"cherry\\\", linestyle=\\\"--\\\")\";\n",
       "                var nbb_cells = Jupyter.notebook.get_cells();\n",
       "                for (var i = 0; i < nbb_cells.length; ++i) {\n",
       "                    if (nbb_cells[i].input_prompt_number == nbb_cell_id) {\n",
       "                        if (nbb_cells[i].get_text() == nbb_unformatted_code) {\n",
       "                             nbb_cells[i].set_text(nbb_formatted_code);\n",
       "                        }\n",
       "                        break;\n",
       "                    }\n",
       "                }\n",
       "            }, 500);\n",
       "            "
      ],
      "text/plain": [
       "<IPython.core.display.Javascript object>"
      ]
     },
     "metadata": {},
     "output_type": "display_data"
    }
   ],
   "source": [
    "f, ax = plot.subplots()\n",
    "ax.hist(yday)\n",
    "# Add red dashed line for today's snow.\n",
    "ax.axvline(yday[-1], color=\"cherry\", linestyle=\"--\")"
   ]
  },
  {
   "cell_type": "code",
   "execution_count": 14,
   "metadata": {},
   "outputs": [
    {
     "data": {
      "application/javascript": [
       "\n",
       "            setTimeout(function() {\n",
       "                var nbb_cell_id = 14;\n",
       "                var nbb_unformatted_code = \"def plot_snow(ax, x, y, c, s=14, **kwargs):\\n    \\\"\\\"\\\"Nice looking scatter plot for each month.\\\"\\\"\\\"\\n    p = ax.scatter(x, y, s=s, c=c, zorder=4, **kwargs)\\n    return p\";\n",
       "                var nbb_formatted_code = \"def plot_snow(ax, x, y, c, s=14, **kwargs):\\n    \\\"\\\"\\\"Nice looking scatter plot for each month.\\\"\\\"\\\"\\n    p = ax.scatter(x, y, s=s, c=c, zorder=4, **kwargs)\\n    return p\";\n",
       "                var nbb_cells = Jupyter.notebook.get_cells();\n",
       "                for (var i = 0; i < nbb_cells.length; ++i) {\n",
       "                    if (nbb_cells[i].input_prompt_number == nbb_cell_id) {\n",
       "                        if (nbb_cells[i].get_text() == nbb_unformatted_code) {\n",
       "                             nbb_cells[i].set_text(nbb_formatted_code);\n",
       "                        }\n",
       "                        break;\n",
       "                    }\n",
       "                }\n",
       "            }, 500);\n",
       "            "
      ],
      "text/plain": [
       "<IPython.core.display.Javascript object>"
      ]
     },
     "metadata": {},
     "output_type": "display_data"
    }
   ],
   "source": [
    "def plot_snow(ax, x, y, c, s=14, **kwargs):\n",
    "    \"\"\"Nice looking scatter plot for each month.\"\"\"\n",
    "    p = ax.scatter(x, y, s=s, c=c, zorder=4, **kwargs)\n",
    "    return p"
   ]
  },
  {
   "cell_type": "code",
   "execution_count": 15,
   "metadata": {},
   "outputs": [
    {
     "name": "stderr",
     "output_type": "stream",
     "text": [
      "/var/folders/dk/rt7yc5_d69789c7_2mx77xs00000gn/T/ipykernel_5548/4229326586.py:3: ProplotWarning: rc setting 'large' was renamed to 'font.largesize' in version 0.6.\n",
      "  plot.rc.large = 11\n",
      "/var/folders/dk/rt7yc5_d69789c7_2mx77xs00000gn/T/ipykernel_5548/4229326586.py:4: ProplotWarning: rc setting 'small' was renamed to 'font.smallsize' in version 0.6.\n",
      "  plot.rc.small = 9\n"
     ]
    },
    {
     "data": {
      "image/png": "[encoded data removed]",
      "text/plain": [
       "Figure(nrows=1, ncols=1, refwidth=3.15, refheight=1.18)"
      ]
     },
     "metadata": {
      "image/png": {
       "height": 225,
       "width": 526
      }
     },
     "output_type": "display_data"
    },
    {
     "data": {
      "application/javascript": [
       "\n",
       "            setTimeout(function() {\n",
       "                var nbb_cell_id = 15;\n",
       "                var nbb_unformatted_code = \"MONTH_COLORS = [\\\"#fec44f\\\", \\\"#ec7014\\\", \\\"#662506\\\"]\\n\\nplot.rc.large = 11\\nplot.rc.small = 9\\nplot.rc.fontname = \\\"Helvetica Light\\\"\\nplot.rc[\\\"legend.frameon\\\"] = False\\n\\nf, ax = plot.subplots(axwidth=\\\"8cm\\\", axheight=\\\"3cm\\\")\\n\\nx = result.year\\n\\np1 = plot_snow(\\n    ax, x[ymonth == 9], yday[ymonth == 9], c=MONTH_COLORS[0], label=\\\"September\\\"\\n)\\np2 = plot_snow(\\n    ax, x[ymonth == 10], yday[ymonth == 10], c=MONTH_COLORS[1], label=\\\"October\\\"\\n)\\np3 = plot_snow(\\n    ax, x[ymonth == 11], yday[ymonth == 11], c=MONTH_COLORS[2], label=\\\"November\\\"\\n)\\n\\n# Sep 1 to Nov 30\\nylim = [245, 335]\\n\\n# Sep 1, Sep 15, Sep 30, Oct 15, Oct 31, Nov 15, Nov 30\\nyticks = [245, 259, 274, 289, 305, 320, 335]\\nyticklabels = [\\\"Sep 1\\\", \\\"Sep 15\\\", \\\"Sep 30\\\", \\\"Oct 15\\\", \\\"Oct 31\\\", \\\"Nov 15\\\", \\\"Nov 30\\\"]\\n\\n# X limits\\nxlim = [1946, 2022]\\n\\nax.format(\\n    xlim=xlim,\\n    xlocator=10,\\n    xgridminor=True,\\n    ylim=ylim,\\n    yticks=yticks,\\n    ytickminor=False,\\n    yticklabels=yticklabels,\\n    ylabel=\\\"date of first snow\\\",\\n    title=\\\"First Snow in Boulder, CO [1948-2021]\\\",\\n)\\n\\n# Latest snow annotation (2 dates)\\nax.annotate(\\n    \\\"latest first snow (Nov. 17th)\\\",\\n    xy=(2016.5, 324),\\n    xytext=(2021, 336),\\n    fontsize=7,\\n    color=\\\"gray6\\\",\\n    arrowprops=dict(arrowstyle=\\\"->\\\", facecolor=\\\"gray6\\\", edgecolor=\\\"gray6\\\"),\\n)\\nax.annotate(\\n    \\\"latest first snow (Nov. 17th)\\\",\\n    xy=(2021.5, 324),\\n    xytext=(2021, 336),\\n    fontsize=7,\\n    color=\\\"gray6\\\",\\n    arrowprops=dict(arrowstyle=\\\"->\\\", facecolor=\\\"gray6\\\", edgecolor=\\\"gray6\\\"),\\n)\\n\\n# # Earliest snow annotation\\nax.annotate(\\n    \\\" earliest first snow (Sep. 8th) \\\",\\n    xy=(2020.5, 250),\\n    xytext=(2022, 215),\\n    fontsize=7,\\n    color=\\\"gray6\\\",\\n    arrowprops=dict(arrowstyle=\\\"->\\\", facecolor=\\\"gray6\\\", edgecolor=\\\"gray6\\\"),\\n)\\n\\n# Can this be done through proplot?\\nsb.despine(\\n    offset=5,\\n)\\n\\n# Legend\\nax.legend(\\n    [\\n        p1,\\n        p2,\\n        p3,\\n    ],\\n    loc=\\\"b\\\",\\n    center=True,\\n)\\n\\nax.axhline(293, color=\\\"gray6\\\", linestyle=\\\"--\\\", alpha=0.5, linewidth=1.5)\\nax.text(2023, 292, \\\"median first snow\\\", fontsize=7, color=\\\"gray6\\\")\\nax.text(2022, 282, \\\"     (Oct. 19th)\\\", fontsize=7, color=\\\"gray6\\\")\\n\\nf.savefig(\\\"../figures/first.snow.2021.whitebg.png\\\", transparent=False)\";\n",
       "                var nbb_formatted_code = \"MONTH_COLORS = [\\\"#fec44f\\\", \\\"#ec7014\\\", \\\"#662506\\\"]\\n\\nplot.rc.large = 11\\nplot.rc.small = 9\\nplot.rc.fontname = \\\"Helvetica Light\\\"\\nplot.rc[\\\"legend.frameon\\\"] = False\\n\\nf, ax = plot.subplots(axwidth=\\\"8cm\\\", axheight=\\\"3cm\\\")\\n\\nx = result.year\\n\\np1 = plot_snow(\\n    ax, x[ymonth == 9], yday[ymonth == 9], c=MONTH_COLORS[0], label=\\\"September\\\"\\n)\\np2 = plot_snow(\\n    ax, x[ymonth == 10], yday[ymonth == 10], c=MONTH_COLORS[1], label=\\\"October\\\"\\n)\\np3 = plot_snow(\\n    ax, x[ymonth == 11], yday[ymonth == 11], c=MONTH_COLORS[2], label=\\\"November\\\"\\n)\\n\\n# Sep 1 to Nov 30\\nylim = [245, 335]\\n\\n# Sep 1, Sep 15, Sep 30, Oct 15, Oct 31, Nov 15, Nov 30\\nyticks = [245, 259, 274, 289, 305, 320, 335]\\nyticklabels = [\\\"Sep 1\\\", \\\"Sep 15\\\", \\\"Sep 30\\\", \\\"Oct 15\\\", \\\"Oct 31\\\", \\\"Nov 15\\\", \\\"Nov 30\\\"]\\n\\n# X limits\\nxlim = [1946, 2022]\\n\\nax.format(\\n    xlim=xlim,\\n    xlocator=10,\\n    xgridminor=True,\\n    ylim=ylim,\\n    yticks=yticks,\\n    ytickminor=False,\\n    yticklabels=yticklabels,\\n    ylabel=\\\"date of first snow\\\",\\n    title=\\\"First Snow in Boulder, CO [1948-2021]\\\",\\n)\\n\\n# Latest snow annotation (2 dates)\\nax.annotate(\\n    \\\"latest first snow (Nov. 17th)\\\",\\n    xy=(2016.5, 324),\\n    xytext=(2021, 336),\\n    fontsize=7,\\n    color=\\\"gray6\\\",\\n    arrowprops=dict(arrowstyle=\\\"->\\\", facecolor=\\\"gray6\\\", edgecolor=\\\"gray6\\\"),\\n)\\nax.annotate(\\n    \\\"latest first snow (Nov. 17th)\\\",\\n    xy=(2021.5, 324),\\n    xytext=(2021, 336),\\n    fontsize=7,\\n    color=\\\"gray6\\\",\\n    arrowprops=dict(arrowstyle=\\\"->\\\", facecolor=\\\"gray6\\\", edgecolor=\\\"gray6\\\"),\\n)\\n\\n# # Earliest snow annotation\\nax.annotate(\\n    \\\" earliest first snow (Sep. 8th) \\\",\\n    xy=(2020.5, 250),\\n    xytext=(2022, 215),\\n    fontsize=7,\\n    color=\\\"gray6\\\",\\n    arrowprops=dict(arrowstyle=\\\"->\\\", facecolor=\\\"gray6\\\", edgecolor=\\\"gray6\\\"),\\n)\\n\\n# Can this be done through proplot?\\nsb.despine(\\n    offset=5,\\n)\\n\\n# Legend\\nax.legend(\\n    [\\n        p1,\\n        p2,\\n        p3,\\n    ],\\n    loc=\\\"b\\\",\\n    center=True,\\n)\\n\\nax.axhline(293, color=\\\"gray6\\\", linestyle=\\\"--\\\", alpha=0.5, linewidth=1.5)\\nax.text(2023, 292, \\\"median first snow\\\", fontsize=7, color=\\\"gray6\\\")\\nax.text(2022, 282, \\\"     (Oct. 19th)\\\", fontsize=7, color=\\\"gray6\\\")\\n\\nf.savefig(\\\"../figures/first.snow.2021.whitebg.png\\\", transparent=False)\";\n",
       "                var nbb_cells = Jupyter.notebook.get_cells();\n",
       "                for (var i = 0; i < nbb_cells.length; ++i) {\n",
       "                    if (nbb_cells[i].input_prompt_number == nbb_cell_id) {\n",
       "                        if (nbb_cells[i].get_text() == nbb_unformatted_code) {\n",
       "                             nbb_cells[i].set_text(nbb_formatted_code);\n",
       "                        }\n",
       "                        break;\n",
       "                    }\n",
       "                }\n",
       "            }, 500);\n",
       "            "
      ],
      "text/plain": [
       "<IPython.core.display.Javascript object>"
      ]
     },
     "metadata": {},
     "output_type": "display_data"
    }
   ],
   "source": [
    "MONTH_COLORS = [\"#fec44f\", \"#ec7014\", \"#662506\"]\n",
    "\n",
    "plot.rc.large = 11\n",
    "plot.rc.small = 9\n",
    "plot.rc.fontname = \"Helvetica Light\"\n",
    "plot.rc[\"legend.frameon\"] = False\n",
    "\n",
    "f, ax = plot.subplots(axwidth=\"8cm\", axheight=\"3cm\")\n",
    "\n",
    "x = result.year\n",
    "\n",
    "p1 = plot_snow(\n",
    "    ax, x[ymonth == 9], yday[ymonth == 9], c=MONTH_COLORS[0], label=\"September\"\n",
    ")\n",
    "p2 = plot_snow(\n",
    "    ax, x[ymonth == 10], yday[ymonth == 10], c=MONTH_COLORS[1], label=\"October\"\n",
    ")\n",
    "p3 = plot_snow(\n",
    "    ax, x[ymonth == 11], yday[ymonth == 11], c=MONTH_COLORS[2], label=\"November\"\n",
    ")\n",
    "\n",
    "# Sep 1 to Nov 30\n",
    "ylim = [245, 335]\n",
    "\n",
    "# Sep 1, Sep 15, Sep 30, Oct 15, Oct 31, Nov 15, Nov 30\n",
    "yticks = [245, 259, 274, 289, 305, 320, 335]\n",
    "yticklabels = [\"Sep 1\", \"Sep 15\", \"Sep 30\", \"Oct 15\", \"Oct 31\", \"Nov 15\", \"Nov 30\"]\n",
    "\n",
    "# X limits\n",
    "xlim = [1946, 2022]\n",
    "\n",
    "ax.format(\n",
    "    xlim=xlim,\n",
    "    xlocator=10,\n",
    "    xgridminor=True,\n",
    "    ylim=ylim,\n",
    "    yticks=yticks,\n",
    "    ytickminor=False,\n",
    "    yticklabels=yticklabels,\n",
    "    ylabel=\"date of first snow\",\n",
    "    title=\"First Snow in Boulder, CO [1948-2021]\",\n",
    ")\n",
    "\n",
    "# Latest snow annotation (2 dates)\n",
    "ax.annotate(\n",
    "    \"latest first snow (Nov. 17th)\",\n",
    "    xy=(2016.5, 324),\n",
    "    xytext=(2021, 336),\n",
    "    fontsize=7,\n",
    "    color=\"gray6\",\n",
    "    arrowprops=dict(arrowstyle=\"->\", facecolor=\"gray6\", edgecolor=\"gray6\"),\n",
    ")\n",
    "ax.annotate(\n",
    "    \"latest first snow (Nov. 17th)\",\n",
    "    xy=(2021.5, 324),\n",
    "    xytext=(2021, 336),\n",
    "    fontsize=7,\n",
    "    color=\"gray6\",\n",
    "    arrowprops=dict(arrowstyle=\"->\", facecolor=\"gray6\", edgecolor=\"gray6\"),\n",
    ")\n",
    "\n",
    "# # Earliest snow annotation\n",
    "ax.annotate(\n",
    "    \" earliest first snow (Sep. 8th) \",\n",
    "    xy=(2020.5, 250),\n",
    "    xytext=(2022, 215),\n",
    "    fontsize=7,\n",
    "    color=\"gray6\",\n",
    "    arrowprops=dict(arrowstyle=\"->\", facecolor=\"gray6\", edgecolor=\"gray6\"),\n",
    ")\n",
    "\n",
    "# Can this be done through proplot?\n",
    "sb.despine(\n",
    "    offset=5,\n",
    ")\n",
    "\n",
    "# Legend\n",
    "ax.legend(\n",
    "    [\n",
    "        p1,\n",
    "        p2,\n",
    "        p3,\n",
    "    ],\n",
    "    loc=\"b\",\n",
    "    center=True,\n",
    ")\n",
    "\n",
    "ax.axhline(293, color=\"gray6\", linestyle=\"--\", alpha=0.5, linewidth=1.5)\n",
    "ax.text(2023, 292, \"median first snow\", fontsize=7, color=\"gray6\")\n",
    "ax.text(2022, 282, \"     (Oct. 19th)\", fontsize=7, color=\"gray6\")\n",
    "\n",
    "f.savefig(\"../figures/first.snow.2021.whitebg.png\", transparent=False)"
   ]
  }
 ],
 "metadata": {
  "kernelspec": {
   "display_name": "Python 3 (ipykernel)",
   "language": "python",
   "name": "python3"
  },
  "language_info": {
   "codemirror_mode": {
    "name": "ipython",
    "version": 3
   },
   "file_extension": ".py",
   "mimetype": "text/x-python",
   "name": "python",
   "nbconvert_exporter": "python",
   "pygments_lexer": "ipython3",
   "version": "3.10.0"
  }
 },
 "nbformat": 4,
 "nbformat_minor": 4
}
